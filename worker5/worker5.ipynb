{
 "cells": [
  {
   "cell_type": "code",
   "execution_count": 291,
   "metadata": {
    "collapsed": true
   },
   "outputs": [],
   "source": [
    "import math\n",
    "\n",
    "import cv2\n",
    "import numpy as np\n",
    "from skimage.metrics import peak_signal_noise_ratio, structural_similarity"
   ]
  },
  {
   "cell_type": "code",
   "execution_count": 292,
   "outputs": [],
   "source": [
    "def dpcm(img, bit, b=2.0):\n",
    "    h, w = img.shape\n",
    "    img_rec = np.zeros_like(img, dtype=np.float32)\n",
    "    img_err = np.zeros_like(img)\n",
    "    for i in range(h):\n",
    "        for j in range(w):\n",
    "            if j == 0:\n",
    "                img_rec[i][j] = img[i][j]\n",
    "                img_err[i][j] = 0.0\n",
    "            else:\n",
    "                p = img[i][j] - img_rec[i][j - 1]\n",
    "                p2 = p / b + 128.0\n",
    "                img_err[i][j] = p2\n",
    "                p3 = p2 * b\n",
    "                img_rec[i][j] = img_rec[i][j - 1] + p3\n",
    "    print(ssim(img, img_rec))\n",
    "    pnsr(img, img_rec)\n",
    "    # SSIM = 0 6.3642775051914935  4.119348493168026\n",
    "    # cv2.imwrite('../worker5/result/result_cz_{}.bmp'.format(bit), img_err)\n",
    "    # cv2.imwrite('../worker5/result/result_yc_{}.bmp'.format(bit), img_rec)"
   ],
   "metadata": {
    "collapsed": false
   }
  },
  {
   "cell_type": "code",
   "execution_count": 293,
   "outputs": [],
   "source": [
    "def pnsr(img1, img2):\n",
    "    h, w = img.shape\n",
    "    mse = 0.0\n",
    "    for i in range(h):\n",
    "        for j in range(w):\n",
    "            mse += math.pow((img1[i][j] - img2[i][j]), 2)\n",
    "    mse = mse / (w * h)\n",
    "    pn = 10 * math.log10(255.0 * 255.0 / mse)\n",
    "    print(pn)\n"
   ],
   "metadata": {
    "collapsed": false
   }
  },
  {
   "cell_type": "code",
   "execution_count": 294,
   "outputs": [],
   "source": [
    "def ssim(img1, img2):\n",
    "    C1 = (0.01 * 255) ** 2\n",
    "    C2 = (0.03 * 255) ** 2\n",
    "    img1 = img1.astype(np.float64)\n",
    "    img2 = img2.astype(np.float64)\n",
    "    kernel = cv2.getGaussianKernel(11, 1.5)\n",
    "    window = np.outer(kernel, kernel.transpose())\n",
    "    mu1 = cv2.filter2D(img1, -1, window)[5:-5, 5:-5]  # valid\n",
    "    mu2 = cv2.filter2D(img2, -1, window)[5:-5, 5:-5]\n",
    "    mu1_sq = mu1 ** 2\n",
    "    mu2_sq = mu2 ** 2\n",
    "    mu1_mu2 = mu1 * mu2\n",
    "    sigma1_sq = cv2.filter2D(img1 ** 2, -1, window)[5:-5, 5:-5] - mu1_sq\n",
    "    sigma2_sq = cv2.filter2D(img2 ** 2, -1, window)[5:-5, 5:-5] - mu2_sq\n",
    "    sigma12 = cv2.filter2D(img1 * img2, -1, window)[5:-5, 5:-5] - mu1_mu2\n",
    "    ssim_map = ((2 * mu1_mu2 + C1) * (2 * sigma12 + C2)) / ((mu1_sq + mu2_sq + C1) *\n",
    "                                                            (sigma1_sq + sigma2_sq + C2))\n",
    "    return ssim_map.mean()"
   ],
   "metadata": {
    "collapsed": false
   }
  },
  {
   "cell_type": "code",
   "execution_count": 295,
   "outputs": [
    {
     "name": "stdout",
     "output_type": "stream",
     "text": [
      "0.0025954989814665577\n",
      "-42.15642589797251\n"
     ]
    }
   ],
   "source": [
    "if __name__ == '__main__':\n",
    "    img = cv2.imread('result/menna_gray.bmp', cv2.IMREAD_GRAYSCALE)\n",
    "    dpcm(img, 1, b=256)"
   ],
   "metadata": {
    "collapsed": false
   }
  }
 ],
 "metadata": {
  "kernelspec": {
   "display_name": "Python 3",
   "language": "python",
   "name": "python3"
  },
  "language_info": {
   "codemirror_mode": {
    "name": "ipython",
    "version": 2
   },
   "file_extension": ".py",
   "mimetype": "text/x-python",
   "name": "python",
   "nbconvert_exporter": "python",
   "pygments_lexer": "ipython2",
   "version": "2.7.6"
  }
 },
 "nbformat": 4,
 "nbformat_minor": 0
}
