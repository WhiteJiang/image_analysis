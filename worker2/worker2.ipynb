{
 "cells": [
  {
   "cell_type": "code",
   "execution_count": 1,
   "outputs": [],
   "source": [
    "from scipy.signal import wiener\n",
    "import cv2\n",
    "import numpy as np\n",
    "from numpy import fft\n",
    "import matplotlib.pyplot as plt\n",
    "from PIL import Image"
   ],
   "metadata": {
    "collapsed": false
   }
  },
  {
   "cell_type": "code",
   "execution_count": 2,
   "outputs": [],
   "source": [
    "def winner_filter(img):\n",
    "    mean = 0\n",
    "    sigma = 25\n",
    "    h, w, c = img.shape\n",
    "    gauss = np.random.normal(mean,sigma,(h, w, c))\n",
    "    noise_img = img + gauss\n",
    "    noise_img = np.clip(noise_img,a_min=0,a_max=255)\n",
    "    result_img = wiener(noise_img,mysize=[20, 20, 1], noise=0)\n",
    "    return result_img"
   ],
   "metadata": {
    "collapsed": false
   }
  },
  {
   "cell_type": "code",
   "execution_count": 3,
   "outputs": [],
   "source": [
    "def motion_process(height, weight, k=0.001):\n",
    "    h_uv = np.zeros((height, weight), dtype='complex128')\n",
    "    for u in range(height):\n",
    "        for v in range(weight):\n",
    "            q = np.power((u ** 2 + v ** 2), (5.0 / 6.0))\n",
    "            h_uv[u][v] = np.exp(-(k * q))\n",
    "    return h_uv"
   ],
   "metadata": {
    "collapsed": false
   }
  },
  {
   "cell_type": "code",
   "execution_count": 4,
   "outputs": [],
   "source": [
    "def blur_noise(src, h_uv):\n",
    "    noise = np.random.normal(0, 1, size=src.shape)\n",
    "    f_uv = np.fft.fft2(src)\n",
    "    arr = np.multiply(f_uv, h_uv) + noise\n",
    "    return arr, noise"
   ],
   "metadata": {
    "collapsed": false
   }
  },
  {
   "cell_type": "code",
   "execution_count": 5,
   "outputs": [],
   "source": [
    "def winner(src, h_uv, k=None):\n",
    "    if k is None:\n",
    "        p_uv = np.conj(h_uv) / (np.abs(h_uv) ** 2)\n",
    "    else:\n",
    "        p_uv = np.conj(h_uv) / (np.abs(h_uv) ** 2 + 0.00005*k)\n",
    "    rst = np.multiply(src, p_uv)\n",
    "    return np.abs(np.fft.ifft2(rst))"
   ],
   "metadata": {
    "collapsed": false
   }
  },
  {
   "cell_type": "code",
   "execution_count": 6,
   "outputs": [],
   "source": [
    "def main(img_path):\n",
    "    src = np.array(Image.open(img_path).convert(\"L\"))\n",
    "    height, weight = src.shape\n",
    "    h_uv = motion_process(height, weight, k=0.001)\n",
    "    noise_src, noise = blur_noise(src, h_uv)\n",
    "    mov_noi_src = np.abs(np.fft.ifft2(noise_src))\n",
    "    k = np.power(np.abs(np.fft.fft2(noise)), 2) / np.power(np.abs(np.fft.fft2(src)), 2)\n",
    "\n",
    "    src_processed_winner = winner(noise_src, h_uv, k)\n",
    "    # cv2.imwrite('../worker2/result/result_{}.png'.format('origin'), src)\n",
    "    # cv2.imwrite('../worker2/result/result_{}.png'.format('noise'), mov_noi_src)\n",
    "    cv2.imwrite('../worker2/result/result_{}.png'.format('best'), src_processed_winner)"
   ],
   "metadata": {
    "collapsed": false
   }
  },
  {
   "cell_type": "code",
   "execution_count": 7,
   "outputs": [],
   "source": [
    "if __name__ == '__main__':\n",
    "    main('../images/menna.jpg')"
   ],
   "metadata": {
    "collapsed": false
   }
  }
 ],
 "metadata": {
  "kernelspec": {
   "display_name": "Python 3",
   "language": "python",
   "name": "python3"
  },
  "language_info": {
   "codemirror_mode": {
    "name": "ipython",
    "version": 2
   },
   "file_extension": ".py",
   "mimetype": "text/x-python",
   "name": "python",
   "nbconvert_exporter": "python",
   "pygments_lexer": "ipython2",
   "version": "2.7.6"
  }
 },
 "nbformat": 4,
 "nbformat_minor": 0
}
