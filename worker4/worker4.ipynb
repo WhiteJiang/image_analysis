{
 "cells": [
  {
   "cell_type": "code",
   "execution_count": 40,
   "metadata": {
    "collapsed": true
   },
   "outputs": [],
   "source": [
    "import cv2\n",
    "import torchvision.transforms.transforms as T\n",
    "from PIL import Image\n",
    "import numpy as np"
   ]
  },
  {
   "cell_type": "code",
   "execution_count": 41,
   "outputs": [],
   "source": [
    "def shift(img, height=0.5):\n",
    "    img = np.array(img)\n",
    "    c, h, w = img.shape\n",
    "    h_t = int(height * h)\n",
    "    img_result = np.zeros_like(img)\n",
    "    for i in range(c):\n",
    "        img_result[i][:h - h_t][:] = img[i][h_t:][:]\n",
    "        img_result[i][h_t:][:] = img[i][:h_t][:]\n",
    "    img_result = Image.fromarray(img_result)\n",
    "    return img_result"
   ],
   "metadata": {
    "collapsed": false
   }
  },
  {
   "cell_type": "code",
   "execution_count": 42,
   "outputs": [
    {
     "name": "stdout",
     "output_type": "stream",
     "text": [
      "shift\n",
      "100\n"
     ]
    }
   ],
   "source": [
    "if __name__ == '__main__':\n",
    "    operate_type = 'shift'\n",
    "    if operate_type == 'shift':\n",
    "        print('shift')\n",
    "        trans = shift\n",
    "    elif operate_type == 'VerticalFlip':\n",
    "        trans = T.RandomVerticalFlip(p=1.0)\n",
    "    elif operate_type == 'HorizontalFlip':\n",
    "        trans = T.RandomHorizontalFlip(p=1.0)\n",
    "    elif operate_type == 'rotate':\n",
    "        trans = T.RandomAffine(scale=[1,1], shear=0, degrees=[30.0, 30.0], translate=[0.0, 0.0])\n",
    "    image = Image.open('../images/menna.jpg')\n",
    "    image = trans(image)\n",
    "    image.save('../worker4/result/result_{}.png'.format(operate_type))\n",
    "    # cv2.imwrite('../worker4/result/result_{}.png'.format(operate_type), image)"
   ],
   "metadata": {
    "collapsed": false
   }
  }
 ],
 "metadata": {
  "kernelspec": {
   "display_name": "Python 3",
   "language": "python",
   "name": "python3"
  },
  "language_info": {
   "codemirror_mode": {
    "name": "ipython",
    "version": 2
   },
   "file_extension": ".py",
   "mimetype": "text/x-python",
   "name": "python",
   "nbconvert_exporter": "python",
   "pygments_lexer": "ipython2",
   "version": "2.7.6"
  }
 },
 "nbformat": 4,
 "nbformat_minor": 0
}
