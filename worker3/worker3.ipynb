{
 "cells": [
  {
   "cell_type": "code",
   "execution_count": 181,
   "outputs": [],
   "source": [
    "import cv2\n",
    "import math\n",
    "import numpy as np"
   ],
   "metadata": {
    "collapsed": false
   }
  },
  {
   "cell_type": "code",
   "execution_count": 182,
   "outputs": [],
   "source": [
    "# 线性点运算\n",
    "def line_dot_computer(x, a=1, b=2):\n",
    "    result = a*x + b\n",
    "    if result > 255:\n",
    "        result = 255\n",
    "    return result"
   ],
   "metadata": {
    "collapsed": false
   }
  },
  {
   "cell_type": "code",
   "execution_count": 183,
   "outputs": [],
   "source": [
    "# 分段线性点运算\n",
    "def line_dot_mul(x):\n",
    "    if x <= 120:\n",
    "        x = 120\n",
    "    elif x < 200:\n",
    "        x = 1.25 * x\n",
    "    else:\n",
    "        x = 255 - x\n",
    "    return x"
   ],
   "metadata": {
    "collapsed": false
   }
  },
  {
   "cell_type": "code",
   "execution_count": 184,
   "outputs": [],
   "source": [
    "# 非线性运算\n",
    "def no_line_dot(x):\n",
    "    if x == 0:\n",
    "        x = 1\n",
    "    x = x * 255\n",
    "    x = np.sqrt(x)\n",
    "    if x > 255:\n",
    "        x = 255\n",
    "    return x"
   ],
   "metadata": {
    "collapsed": false
   }
  },
  {
   "cell_type": "code",
   "execution_count": 185,
   "outputs": [],
   "source": [
    "def image_operation(img, fun_img):\n",
    "    result_img = np.zeros_like(img)\n",
    "    for i in range(img.shape[0]):\n",
    "        for j in range(img.shape[1]):\n",
    "            for k in range(img.shape[2]):\n",
    "                result_img[i][j][k] = fun_img(img[i][j][k])\n",
    "    return result_img"
   ],
   "metadata": {
    "collapsed": false
   }
  },
  {
   "cell_type": "code",
   "execution_count": 186,
   "outputs": [],
   "source": [
    "if __name__ == '__main__':\n",
    "    image = cv2.imread('../images/menna.jpg')\n",
    "    operate_type = 'no'\n",
    "    if operate_type == 'line':\n",
    "        func = line_dot_computer\n",
    "    elif operate_type == 'mul':\n",
    "        func = line_dot_mul\n",
    "    else:\n",
    "        func = no_line_dot\n",
    "    result = image_operation(image, func)\n",
    "    cv2.imwrite('../worker3/result/result_{}.png'.format(operate_type), result)"
   ],
   "metadata": {
    "collapsed": false
   }
  }
 ],
 "metadata": {
  "kernelspec": {
   "display_name": "Python 3",
   "language": "python",
   "name": "python3"
  },
  "language_info": {
   "codemirror_mode": {
    "name": "ipython",
    "version": 2
   },
   "file_extension": ".py",
   "mimetype": "text/x-python",
   "name": "python",
   "nbconvert_exporter": "python",
   "pygments_lexer": "ipython2",
   "version": "2.7.6"
  }
 },
 "nbformat": 4,
 "nbformat_minor": 0
}
