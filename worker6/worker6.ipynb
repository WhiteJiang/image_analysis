{
 "cells": [
  {
   "cell_type": "code",
   "execution_count": 30,
   "metadata": {
    "collapsed": true
   },
   "outputs": [],
   "source": [
    "import numpy as np\n",
    "import cv2"
   ]
  },
  {
   "cell_type": "code",
   "execution_count": 31,
   "outputs": [],
   "source": [
    "def OTSU(img_gray, th_begin=0, th_end=256, th_step=1):\n",
    "    max_g = 0\n",
    "    suitable_th = 0\n",
    "    for threshold in range(th_begin, th_end, th_step):\n",
    "        bin_img = img_gray > threshold\n",
    "        bin_img_inv = img_gray <= threshold\n",
    "        fore_pix = np.sum(bin_img)\n",
    "        back_pix = np.sum(bin_img_inv)\n",
    "        if 0 == fore_pix:\n",
    "            break\n",
    "        if 0 == back_pix:\n",
    "            continue\n",
    "\n",
    "        w0 = float(fore_pix) / img_gray.size\n",
    "        u0 = float(np.sum(img_gray * bin_img)) / fore_pix\n",
    "        w1 = float(back_pix) / img_gray.size\n",
    "        u1 = float(np.sum(img_gray * bin_img_inv)) / back_pix\n",
    "        # 类内方差\n",
    "        g = w0 * w1 * (u0 - u1) * (u0 - u1)\n",
    "        if g > max_g:\n",
    "            max_g = g\n",
    "            suitable_th = threshold\n",
    "    img_np = np.array(img_gray)\n",
    "    img_np = np.where(img_np > suitable_th, 255, 0)\n",
    "    cv2.imwrite('../worker6/result/result_{}.png'.format('otsu'), img_np)\n",
    "    return suitable_th"
   ],
   "metadata": {
    "collapsed": false
   }
  },
  {
   "cell_type": "code",
   "execution_count": 32,
   "outputs": [],
   "source": [
    "def iterate(image):\n",
    "    l = len(image)\n",
    "    w = len(image[0])\n",
    "    zmin = np.min(image)\n",
    "    zmax = np.max(image)\n",
    "    t0 = int((zmin+zmax)/2)\n",
    "    t1=0\n",
    "    res1=0\n",
    "    res2=0\n",
    "    s1=0\n",
    "    s2=0\n",
    "\n",
    "    while abs(t0-t1)>0:\n",
    "     for i in range(0,l-1):\n",
    "      for j in range(0,w-1):\n",
    "       if image[i,j]<t0:\n",
    "        res1=res1+image[i,j]\n",
    "        s1=s1+1\n",
    "       elif image[i,j]>t0:\n",
    "        res2=res2+image[i,j]\n",
    "        s2=s2+1\n",
    "     avg1=res1/s1\n",
    "     avg2=res2/s2\n",
    "     res1 = 0\n",
    "     res2 = 0\n",
    "     s1 = 0\n",
    "     s2 = 0\n",
    "     t1 = t0\n",
    "     t0=int((avg1+avg2)/2)\n",
    "\n",
    "    im = np.where(image[...,:] < t0, 0, 255)\n",
    "    cv2.imwrite('../worker6/result/result_{}.png'.format('iterate'), im)"
   ],
   "metadata": {
    "collapsed": false
   }
  },
  {
   "cell_type": "code",
   "execution_count": 33,
   "outputs": [],
   "source": [
    "if __name__ == '__main__':\n",
    "    img = cv2.imread('../images/menna.jpg')\n",
    "    img = cv2.cvtColor(img, cv2.COLOR_BGR2GRAY)\n",
    "    iterate(img)"
   ],
   "metadata": {
    "collapsed": false
   }
  },
  {
   "cell_type": "markdown",
   "source": [],
   "metadata": {
    "collapsed": false
   }
  }
 ],
 "metadata": {
  "kernelspec": {
   "display_name": "Python 3",
   "language": "python",
   "name": "python3"
  },
  "language_info": {
   "codemirror_mode": {
    "name": "ipython",
    "version": 2
   },
   "file_extension": ".py",
   "mimetype": "text/x-python",
   "name": "python",
   "nbconvert_exporter": "python",
   "pygments_lexer": "ipython2",
   "version": "2.7.6"
  }
 },
 "nbformat": 4,
 "nbformat_minor": 0
}
