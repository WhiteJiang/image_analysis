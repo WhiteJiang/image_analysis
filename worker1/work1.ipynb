{
 "cells": [
  {
   "cell_type": "code",
   "execution_count": 76,
   "outputs": [],
   "source": [
    "import cv2\n",
    "import numpy as np"
   ],
   "metadata": {
    "collapsed": false
   }
  },
  {
   "cell_type": "code",
   "execution_count": 77,
   "outputs": [],
   "source": [
    "def min_filter_mean(src, r=7):\n",
    "    \"\"\"\n",
    "    最小值滤波，\n",
    "    :param src: 源图像\n",
    "    :param r: r是滤波器半径\n",
    "    :return:\n",
    "    \"\"\"\n",
    "    return cv2.erode(src, np.ones((2 * r + 1, 2 * r + 1)))\n",
    "\n",
    "\n",
    "def guided_filter(image, p, r, eps):\n",
    "    m_i = cv2.boxFilter(image, -1, (r, r))\n",
    "    m_p = cv2.boxFilter(p, -1, (r, r))\n",
    "    m_ip = cv2.boxFilter(image * p, -1, (r, r))\n",
    "    cov_ip = m_ip - m_i * m_p\n",
    "\n",
    "    m_ii = cv2.boxFilter(image * image, -1, (r, r))\n",
    "    var_i = m_ii - m_i * m_i\n",
    "\n",
    "    a = cov_ip / (var_i + eps)\n",
    "    b = m_p - a * m_i\n",
    "\n",
    "    m_a = cv2.boxFilter(a, -1, (r, r))\n",
    "    m_b = cv2.boxFilter(b, -1, (r, r))\n",
    "    return m_a * image + m_b\n",
    "\n",
    "# 输入rgb图像，值范围[0,1]\n",
    "def fog(m, r, eps, w, max_v1):\n",
    "    \"\"\"\n",
    "    计算大气遮罩图像V1和光照值A, V1 = 1-t/A'''\n",
    "    \"\"\"\n",
    "    image_dark = np.min(m, 2)\n",
    "    # 得到暗通道图像\n",
    "    dark_channel = min_filter_mean(image_dark, 5)\n",
    "    dark_channel_ori = dark_channel * 255\n",
    "    cv2.imwrite('worker1/result/1_dark.png', dark_channel_ori)\n",
    "    # 查看暗通道\n",
    "    # cv2.imshow('Dark',dark_channel)\n",
    "    # cv2.waitKey(0)\n",
    "    # cv2.destroyAllWindows()\n",
    "    # 使用引导滤波优化\n",
    "    image_dark = guided_filter(image_dark, dark_channel, r, eps)\n",
    "    bins = 2000\n",
    "    # 计算大气光照A\n",
    "    ht = np.histogram(image_dark, bins)\n",
    "    d = np.cumsum(ht[0]) / float(image_dark.size)\n",
    "    for lmax in range(bins - 1, 0, -1):\n",
    "        if d[lmax] <= 0.999:\n",
    "            break\n",
    "    a = np.mean(m, 2)[image_dark >= ht[1][lmax]].max()\n",
    "     # 对值范围进行限制\n",
    "    v1 = np.minimum(image_dark * w, max_v1)\n",
    "    return v1, a\n",
    "\n",
    "\n",
    "def haze(m, r=81, eps=0.001, w=0.95, max_v1=0.80, b_gamma=False):\n",
    "    y = np.zeros(m.shape)\n",
    "    # 得到遮罩图像和大气光照\n",
    "    mask_img, a = fog(m, r, eps, w, max_v1)\n",
    "\n",
    "    for k in range(3):\n",
    "        # 颜色校正\n",
    "        y[:,:,k] = (m[:,:,k] - mask_img) / (1 - mask_img / a)\n",
    "    y = np.clip(y, 0, 1)\n",
    "    if b_gamma:\n",
    "        # gamma校正,默认不进行该操作\n",
    "        y = y ** (np.log(0.5) / np.log(y.mean()))\n",
    "    return y\n"
   ],
   "metadata": {
    "collapsed": false
   }
  },
  {
   "cell_type": "code",
   "execution_count": 78,
   "outputs": [],
   "source": [
    "if __name__ == '__main__':\n",
    "    image_pos = haze(cv2.imread('images/1.jpg') / 255.0) * 255\n",
    "    cv2.imwrite('worker1/result/1_pos.png', image_pos)"
   ],
   "metadata": {
    "collapsed": false
   }
  }
 ],
 "metadata": {
  "kernelspec": {
   "display_name": "Python 3",
   "language": "python",
   "name": "python3"
  },
  "language_info": {
   "codemirror_mode": {
    "name": "ipython",
    "version": 2
   },
   "file_extension": ".py",
   "mimetype": "text/x-python",
   "name": "python",
   "nbconvert_exporter": "python",
   "pygments_lexer": "ipython2",
   "version": "2.7.6"
  }
 },
 "nbformat": 4,
 "nbformat_minor": 0
}
